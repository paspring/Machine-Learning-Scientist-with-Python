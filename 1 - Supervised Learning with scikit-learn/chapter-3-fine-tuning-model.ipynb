{
 "cells": [
  {
   "cell_type": "markdown",
   "id": "8c4ee6dc-4c88-405c-bd42-78803c0640e1",
   "metadata": {},
   "source": [
    "## Lesson 1: Metrics"
   ]
  },
  {
   "cell_type": "markdown",
   "id": "213cc15d-e79f-4317-b197-c099fb977077",
   "metadata": {},
   "source": [
    "**Exercise 1: Assessing a diabetes prediction classifier**\n",
    "In this chapter, you'll work with the `diabetes_df` dataset introduced previously.\n",
    "\n",
    "The goal is to predict whether or not each individual is likely to have diabetes based on the features of body mass index (BMI) and age (in years). Therefore, it is a binary classification problem. A target value of 0 indicates that the individual does not have diabetes, while a value of 1 indicates that the individual does have diabetes.\n",
    "\n",
    "diabetes_df has been preloaded for you as a pandas DataFrame and split into `X_train`, `X_test`, `y_train`, and `y_test`. In addition, a `KNeighborsClassifier()` has been instantiated and assigned to knn.\n",
    "\n",
    "You will fit the model, make predictions on the test set, then produce a confusion matrix and classification report.\n",
    "\n",
    "- Import confusion_matrix and classification_report.\n",
    "- Fit the model to the training data.\n",
    "- Predict the labels of the test set, storing the results as `y_pred`.\n",
    "- Compute and print the confusion matrix and classification report for the test labels versus the predicted labels."
   ]
  },
  {
   "cell_type": "code",
   "execution_count": 1,
   "id": "a51e5d79-d04b-4a8b-9082-a5b4a07e6769",
   "metadata": {},
   "outputs": [
    {
     "data": {
      "text/html": [
       "<div>\n",
       "<style scoped>\n",
       "    .dataframe tbody tr th:only-of-type {\n",
       "        vertical-align: middle;\n",
       "    }\n",
       "\n",
       "    .dataframe tbody tr th {\n",
       "        vertical-align: top;\n",
       "    }\n",
       "\n",
       "    .dataframe thead th {\n",
       "        text-align: right;\n",
       "    }\n",
       "</style>\n",
       "<table border=\"1\" class=\"dataframe\">\n",
       "  <thead>\n",
       "    <tr style=\"text-align: right;\">\n",
       "      <th></th>\n",
       "      <th>pregnancies</th>\n",
       "      <th>glucose</th>\n",
       "      <th>diastolic</th>\n",
       "      <th>triceps</th>\n",
       "      <th>insulin</th>\n",
       "      <th>bmi</th>\n",
       "      <th>dpf</th>\n",
       "      <th>age</th>\n",
       "      <th>diabetes</th>\n",
       "    </tr>\n",
       "  </thead>\n",
       "  <tbody>\n",
       "    <tr>\n",
       "      <th>0</th>\n",
       "      <td>6</td>\n",
       "      <td>148</td>\n",
       "      <td>72</td>\n",
       "      <td>35</td>\n",
       "      <td>0</td>\n",
       "      <td>33.6</td>\n",
       "      <td>0.627</td>\n",
       "      <td>50</td>\n",
       "      <td>1</td>\n",
       "    </tr>\n",
       "    <tr>\n",
       "      <th>1</th>\n",
       "      <td>1</td>\n",
       "      <td>85</td>\n",
       "      <td>66</td>\n",
       "      <td>29</td>\n",
       "      <td>0</td>\n",
       "      <td>26.6</td>\n",
       "      <td>0.351</td>\n",
       "      <td>31</td>\n",
       "      <td>0</td>\n",
       "    </tr>\n",
       "    <tr>\n",
       "      <th>2</th>\n",
       "      <td>8</td>\n",
       "      <td>183</td>\n",
       "      <td>64</td>\n",
       "      <td>0</td>\n",
       "      <td>0</td>\n",
       "      <td>23.3</td>\n",
       "      <td>0.672</td>\n",
       "      <td>32</td>\n",
       "      <td>1</td>\n",
       "    </tr>\n",
       "    <tr>\n",
       "      <th>3</th>\n",
       "      <td>1</td>\n",
       "      <td>89</td>\n",
       "      <td>66</td>\n",
       "      <td>23</td>\n",
       "      <td>94</td>\n",
       "      <td>28.1</td>\n",
       "      <td>0.167</td>\n",
       "      <td>21</td>\n",
       "      <td>0</td>\n",
       "    </tr>\n",
       "    <tr>\n",
       "      <th>4</th>\n",
       "      <td>0</td>\n",
       "      <td>137</td>\n",
       "      <td>40</td>\n",
       "      <td>35</td>\n",
       "      <td>168</td>\n",
       "      <td>43.1</td>\n",
       "      <td>2.288</td>\n",
       "      <td>33</td>\n",
       "      <td>1</td>\n",
       "    </tr>\n",
       "  </tbody>\n",
       "</table>\n",
       "</div>"
      ],
      "text/plain": [
       "   pregnancies  glucose  diastolic  triceps  insulin   bmi    dpf  age  \\\n",
       "0            6      148         72       35        0  33.6  0.627   50   \n",
       "1            1       85         66       29        0  26.6  0.351   31   \n",
       "2            8      183         64        0        0  23.3  0.672   32   \n",
       "3            1       89         66       23       94  28.1  0.167   21   \n",
       "4            0      137         40       35      168  43.1  2.288   33   \n",
       "\n",
       "   diabetes  \n",
       "0         1  \n",
       "1         0  \n",
       "2         1  \n",
       "3         0  \n",
       "4         1  "
      ]
     },
     "execution_count": 1,
     "metadata": {},
     "output_type": "execute_result"
    }
   ],
   "source": [
    "import pandas as pd\n",
    "\n",
    "diabetes_df = pd.read_csv('data/diabetes_clean.csv')\n",
    "diabetes_df.head()"
   ]
  },
  {
   "cell_type": "code",
   "execution_count": 2,
   "id": "1d6a1565-c364-4c33-b516-2ccac92d78fd",
   "metadata": {},
   "outputs": [],
   "source": [
    "from sklearn.model_selection import train_test_split\n",
    "\n",
    "X = diabetes_df.drop(['diabetes'], axis = 1).values\n",
    "y = diabetes_df['diabetes'].values\n",
    "\n",
    "X_train, X_test, y_train, y_test = train_test_split(X, y, test_size=0.2, random_state=42, stratify=y)"
   ]
  },
  {
   "cell_type": "code",
   "execution_count": 6,
   "id": "b465e735-5b15-40ba-a9eb-7f0fd084050a",
   "metadata": {},
   "outputs": [
    {
     "name": "stdout",
     "output_type": "stream",
     "text": [
      "[[87 13]\n",
      " [31 23]]\n",
      "              precision    recall  f1-score   support\n",
      "\n",
      "           0       0.74      0.87      0.80       100\n",
      "           1       0.64      0.43      0.51        54\n",
      "\n",
      "    accuracy                           0.71       154\n",
      "   macro avg       0.69      0.65      0.65       154\n",
      "weighted avg       0.70      0.71      0.70       154\n",
      "\n"
     ]
    }
   ],
   "source": [
    "# Import confusion matrix\n",
    "from sklearn.metrics import confusion_matrix, classification_report\n",
    "from sklearn.neighbors import KNeighborsClassifier\n",
    "\n",
    "knn = KNeighborsClassifier(n_neighbors=6)\n",
    "\n",
    "# Fit the model to the training data\n",
    "knn.fit(X_train, y_train)\n",
    "\n",
    "# Predict the labels of the test data: y_pred\n",
    "y_pred = knn.predict(X_test)\n",
    "\n",
    "# Generate the confusion matrix and classification report\n",
    "print(confusion_matrix(y_test, y_pred))\n",
    "print(classification_report(y_test, y_pred))"
   ]
  },
  {
   "cell_type": "markdown",
   "id": "59053a1f-7963-4962-bf71-226fa00aaa4d",
   "metadata": {},
   "source": [
    "## Lesson 2: Logistic regression and the ROC curve"
   ]
  },
  {
   "cell_type": "markdown",
   "id": "77b564cb-1389-45e1-9e44-1a3943498af6",
   "metadata": {},
   "source": [
    "**Exercise 1: Building a logistic regression model**\n",
    "In this exercise, you will build a logistic regression model using all features in the diabetes_df dataset. The model will be used to predict the probability of individuals in the test set having a diabetes diagnosis.\n",
    "\n",
    "The diabetes_df dataset has been split into `X_train`, `X_test`, `y_train`, and `y_test`, and preloaded for you.\n",
    "\n",
    "- Import `LogisticRegression`.\n",
    "- Instantiate a logistic regression model, `logreg`.\n",
    "- Fit the model to the training data.\n",
    "- Predict the probabilities of each individual in the test set having a diabetes diagnosis, storing the array of positive probabilities as `y_pred_probs`."
   ]
  },
  {
   "cell_type": "code",
   "execution_count": 8,
   "id": "f0ea046e-c94f-47b8-b758-2a54f5fce7e4",
   "metadata": {},
   "outputs": [
    {
     "name": "stdout",
     "output_type": "stream",
     "text": [
      "[0.62326484 0.11031148 0.27089814 0.28041191 0.00428979 0.18126228\n",
      " 0.47430947 0.91590715 0.10233408 0.7905479 ]\n"
     ]
    }
   ],
   "source": [
    "# Import LogisticRegression\n",
    "from sklearn.linear_model import LogisticRegression\n",
    "\n",
    "# Instantiate the model\n",
    "logreg = LogisticRegression(max_iter=500)\n",
    "\n",
    "# Fit the model\n",
    "logreg.fit(X_train, y_train)\n",
    "\n",
    "# Predict probabilities\n",
    "y_pred_probs = logreg.predict_proba(X_test)[:, 1]\n",
    "\n",
    "print(y_pred_probs[:10])"
   ]
  },
  {
   "cell_type": "markdown",
   "id": "7478a0d3-fe27-4b9b-807a-a783a6672e82",
   "metadata": {},
   "source": [
    "**Exercise 2: The ROC curve**\n",
    "Now you have built a logistic regression model for predicting diabetes status, you can plot the ROC curve to visualize how the true positive rate and false positive rate vary as the decision threshold changes.\n",
    "\n",
    "The test `labels`, `y_test`, and the predicted probabilities of the test features belonging to the positive class, `y_pred_probs`, have been preloaded for you, along with `matplotlib.pyplot` as plt.\n",
    "\n",
    "You will create a ROC curve and then interpret the results.\n",
    "\n",
    "- Import roc_curve.\n",
    "- Calculate the ROC curve values, using `y_test` and `y_pred_probs`, and unpacking the results into `fpr`, `tpr`, and `thresholds`.\n",
    "- Plot true positive rate against false positive rate."
   ]
  },
  {
   "cell_type": "code",
   "execution_count": 10,
   "id": "5da5ea81-d66f-46d9-ba7e-71ced46c1de2",
   "metadata": {},
   "outputs": [
    {
     "data": {
      "image/png": "[encoded data removed]",
      "text/plain": [
       "<Figure size 640x480 with 1 Axes>"
      ]
     },
     "metadata": {},
     "output_type": "display_data"
    }
   ],
   "source": [
    "# Import roc_curve\n",
    "from sklearn.metrics import roc_curve\n",
    "import matplotlib.pyplot as plt\n",
    "\n",
    "# Generate ROC curve values: fpr, tpr, thresholds\n",
    "fpr, tpr, thresholds = roc_curve(y_test, y_pred_probs)\n",
    "\n",
    "plt.plot([0, 1], [0, 1], 'k--')\n",
    "\n",
    "# Plot tpr against fpr\n",
    "plt.plot(fpr, tpr)\n",
    "plt.xlabel('False Positive Rate')\n",
    "plt.ylabel('True Positive Rate')\n",
    "plt.title('ROC Curve for Diabetes Prediction')\n",
    "plt.show()"
   ]
  },
  {
   "cell_type": "markdown",
   "id": "934d7f11-1c0a-447f-8112-d5a9dc82e953",
   "metadata": {},
   "source": [
    "**Question**\n",
    "Well done on producing the ROC curve for the diabetes prediction model.\n",
    "\n",
    "But, what does the plot tell you about the model's performance?\n",
    "\n",
    "Possible answers\n",
    "- The model is about as good as randomly guessing the class of each observation.\n",
    "- The model is much worse than randomly guessing the class of each observation.\n",
    "- The model is much better than randomly guessing the class of each observation. &#10003; \n",
    "- It is not possible to conclude whether the model performs better or worse than randomly guessing the class of each observation."
   ]
  },
  {
   "cell_type": "markdown",
   "id": "e94bd69e-4ef5-4254-95c7-7699b8466e99",
   "metadata": {},
   "source": [
    "**Exercise 2: ROC AUC**\n",
    "The ROC curve you plotted in the last exercise looked promising.\n",
    "\n",
    "Now you will compute the area under the ROC curve, along with the other classification metrics you have used previously.\n",
    "\n",
    "The confusion_matrix and classification_report functions have been preloaded for you, along with the `logreg` model you previously built, plus `X_train`, `X_test`, `y_train`, `y_test`. Also, the model's predicted test set labels are stored as y_pred, and probabilities of test set observations belonging to the positive class stored as `y_pred_probs`.\n",
    "\n",
    "A knn model has also been created and the performance metrics printed in the console, so you can compare the roc_auc_score, confusion_matrix, and classification_report between the two models.\n",
    "\n",
    "- Import `roc_auc_score`.\n",
    "- Calculate and print the ROC AUC score, passing the test labels and the predicted positive class probabilities.\n",
    "- Calculate and print the confusion matrix.\n",
    "- Call `classification_report()`."
   ]
  },
  {
   "cell_type": "code",
   "execution_count": 11,
   "id": "2de1df0d-e801-48ac-9b87-a96500a78a81",
   "metadata": {},
   "outputs": [
    {
     "name": "stdout",
     "output_type": "stream",
     "text": [
      "0.8229629629629629\n",
      "[[87 13]\n",
      " [31 23]]\n",
      "              precision    recall  f1-score   support\n",
      "\n",
      "           0       0.74      0.87      0.80       100\n",
      "           1       0.64      0.43      0.51        54\n",
      "\n",
      "    accuracy                           0.71       154\n",
      "   macro avg       0.69      0.65      0.65       154\n",
      "weighted avg       0.70      0.71      0.70       154\n",
      "\n"
     ]
    }
   ],
   "source": [
    "# Import roc_auc_score\n",
    "from sklearn.metrics import roc_auc_score\n",
    "\n",
    "# Calculate roc_auc_score\n",
    "print(roc_auc_score(y_test, y_pred_probs))\n",
    "\n",
    "# Calculate the confusion matrix\n",
    "print(confusion_matrix(y_test, y_pred))\n",
    "\n",
    "# Calculate the classification report\n",
    "print(classification_report(y_test, y_pred))\n"
   ]
  },
  {
   "cell_type": "markdown",
   "id": "87e52d44-196b-4ef6-a2c4-b7dd082c46a1",
   "metadata": {},
   "source": [
    "## Lesson 3: Hyperparameter tuning"
   ]
  },
  {
   "cell_type": "markdown",
   "id": "0bf84dda-056b-4b5e-a081-8e19a9464aa5",
   "metadata": {},
   "source": [
    "**Exercise 1: Hyperparameter tuning with GridSearchCV**\n",
    "\n",
    "Now you have seen how to perform grid search hyperparameter tuning, you are going to build a lasso regression model with optimal hyperparameters to predict blood glucose levels using the features in the diabetes_df dataset.\n",
    "\n",
    "`X_train`, `X_test`, `y_train`, and `y_test` have been preloaded for you. A KFold() object has been created and stored for you as `kf`, along with a lasso regression model as lasso.\n",
    "\n",
    "- Import GridSearchCV.\n",
    "- Set up a parameter grid for \"alpha\", using np.linspace() to create 20 evenly spaced values ranging from 0.00001 to 1.\n",
    "- Call `GridSearchCV()`, passing lasso, the parameter grid, and setting `cv` equal to `kf`.\n",
    "- Fit the grid search object to the training data to perform a cross-validated grid search."
   ]
  },
  {
   "cell_type": "code",
   "execution_count": 12,
   "id": "a5550d3d-82d5-4362-a5a4-9ae10dd13e5b",
   "metadata": {},
   "outputs": [
    {
     "name": "stdout",
     "output_type": "stream",
     "text": [
      "Tuned Lasso parameters: {'alpha': 0.0001}\n",
      "Tuned Lasso R-squared: 0.2549199917155023\n"
     ]
    }
   ],
   "source": [
    "import numpy as np\n",
    "from sklearn.linear_model import Lasso\n",
    "from sklearn.model_selection import GridSearchCV, KFold \n",
    "\n",
    "# Create a KFold object (assuming you wanted 6 folds as in your previous examples)\n",
    "kf = KFold(n_splits=6, shuffle=True, random_state=5) \n",
    "\n",
    "# Set up the parameter grid\n",
    "param_grid = {\"alpha\": np.linspace(0.0001, 1, 20)} # Slightly adjusted range\n",
    "\n",
    "# Instantiate Lasso (add a random_state for reproducibility)\n",
    "lasso = Lasso(random_state=42) \n",
    "\n",
    "# Instantiate GridSearchCV\n",
    "lasso_cv = GridSearchCV(lasso, param_grid, cv=kf, scoring='r2') # Use 'r2' for scoring\n",
    "\n",
    "# Fit to the training data\n",
    "lasso_cv.fit(X_train, y_train)  \n",
    "\n",
    "# Print results \n",
    "print(\"Tuned Lasso parameters: {}\".format(lasso_cv.best_params_))\n",
    "print(\"Tuned Lasso R-squared: {}\".format(lasso_cv.best_score_)) "
   ]
  },
  {
   "cell_type": "markdown",
   "id": "57e9e1d9-5a56-4547-ae87-5d9af40f2c75",
   "metadata": {},
   "source": [
    "**Exercise 2: Hyperparameter tuning with RandomizedSearchCV**\n",
    "\n",
    "As you saw, `GridSearchCV` can be computationally expensive, especially if you are searching over a large hyperparameter space. In this case, you can use `RandomizedSearchCV`, which tests a fixed number of hyperparameter settings from specified probability distributions.\n",
    "\n",
    "Training and test sets from diabetes_df have been pre-loaded for you as `X_train`, `X_test`, `y_train`, and `y_test`, where the target is \"diabetes\". A logistic regression model has been created and stored as logreg, as well as a KFold variable stored as kf.\n",
    "\n",
    "You will define a range of hyperparameters and use RandomizedSearchCV, which has been imported from sklearn.model_selection, to look for optimal hyperparameters from these options.\n",
    "\n",
    "- Create params, adding \"l1\" and \"l2\" as penalty values, setting C to a range of 50 float values between 0.1 and 1.0, and `class_weight` to either \"balanced\" or a dictionary containing 0:0.8, 1:0.2.\n",
    "- Create the Randomized Search CV object, passing the model and the parameters, and setting cv equal to kf.\n",
    "- Fit `logreg_cv` to the training data.\n",
    "- Print the model's best parameters and accuracy score."
   ]
  },
  {
   "cell_type": "code",
   "execution_count": 15,
   "id": "2f46e31b-3ec0-4138-9ada-72ca54b1e418",
   "metadata": {},
   "outputs": [
    {
     "name": "stdout",
     "output_type": "stream",
     "text": [
      "Tuned Logistic Regression Parameters: {'tol': 0.32659795918367346, 'penalty': 'l1', 'class_weight': {0: 0.8, 1: 0.2}, 'C': 0.926530612244898}\n",
      "Tuned Logistic Regression Best Accuracy Score: 0.6517069611015928\n"
     ]
    }
   ],
   "source": [
    "import numpy as np\n",
    "from sklearn.linear_model import LogisticRegression\n",
    "from sklearn.model_selection import RandomizedSearchCV, KFold \n",
    "\n",
    "# Create the parameter space\n",
    "params = {\"penalty\": [\"l1\", \"l2\"],\n",
    "          \"tol\": np.linspace(0.0001, 1.0, 50),\n",
    "          \"C\": np.linspace(0.1, 1, 50),\n",
    "          \"class_weight\": [\"balanced\", {0: 0.8, 1: 0.2}]}\n",
    "\n",
    "# Instantiate the KFold object\n",
    "kf = KFold(n_splits=6, shuffle=True, random_state=5) \n",
    "\n",
    "# Instantiate Logistic Regression\n",
    "logreg = LogisticRegression(random_state=42, solver='saga') \n",
    "\n",
    "# Instantiate the RandomizedSearchCV object\n",
    "logreg_cv = RandomizedSearchCV(logreg, params, cv=kf, scoring='accuracy') \n",
    "\n",
    "# Fit the data to the model\n",
    "logreg_cv.fit(X_train, y_train)\n",
    "\n",
    "# Print the tuned parameters and score\n",
    "print(\"Tuned Logistic Regression Parameters: {}\".format(logreg_cv.best_params_))\n",
    "print(\"Tuned Logistic Regression Best Accuracy Score: {}\".format(logreg_cv.best_score_)) \n"
   ]
  },
  {
   "cell_type": "code",
   "execution_count": null,
   "id": "a9f8ce8e-ce9f-4a9d-9505-a0ebfd6208fc",
   "metadata": {},
   "outputs": [],
   "source": []
  }
 ],
 "metadata": {
  "kernelspec": {
   "display_name": "Python 3 (ipykernel)",
   "language": "python",
   "name": "python3"
  },
  "language_info": {
   "codemirror_mode": {
    "name": "ipython",
    "version": 3
   },
   "file_extension": ".py",
   "mimetype": "text/x-python",
   "name": "python",
   "nbconvert_exporter": "python",
   "pygments_lexer": "ipython3",
   "version": "3.11.8"
  }
 },
 "nbformat": 4,
 "nbformat_minor": 5
}
